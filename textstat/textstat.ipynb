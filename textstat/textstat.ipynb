{
  "nbformat": 4,
  "nbformat_minor": 0,
  "metadata": {
    "colab": {
      "name": "textstat.ipynb",
      "provenance": [],
      "authorship_tag": "ABX9TyMktmHr5jRVtmgPzy1OhnVN",
      "include_colab_link": true
    },
    "kernelspec": {
      "name": "python3",
      "display_name": "Python 3"
    },
    "language_info": {
      "name": "python"
    }
  },
  "cells": [
    {
      "cell_type": "markdown",
      "metadata": {
        "id": "view-in-github",
        "colab_type": "text"
      },
      "source": [
        "<a href=\"https://colab.research.google.com/github/syhpan/toolbox/blob/main/textstat/textstat.ipynb\" target=\"_parent\"><img src=\"https://colab.research.google.com/assets/colab-badge.svg\" alt=\"Open In Colab\"/></a>"
      ]
    },
    {
      "cell_type": "markdown",
      "metadata": {
        "id": "q14Cj7vVLY4b"
      },
      "source": [
        "# TextStat 文本統計\n",
        "Samaw Pan 21/10/22"
      ]
    },
    {
      "cell_type": "markdown",
      "metadata": {
        "id": "Qg-rBGR7i9U7"
      },
      "source": [
        "## Step 1\n",
        "執行下方主程式：\n"
      ]
    },
    {
      "cell_type": "code",
      "metadata": {
        "id": "mWVT8PB4LYRP"
      },
      "source": [
        "import pandas as pd\n",
        "\n",
        "def textstat(myfile):\n",
        "\n",
        "  # read file\n",
        "  f = open(myfile, encoding='utf-8')\n",
        "  mylist = [i.replace('\\n','') for i in f.readlines()]\n",
        "  f.close()\n",
        "\n",
        "  # count words\n",
        "  mydict = {}\n",
        "  for l in mylist:\n",
        "    holder = ''\n",
        "    for c in l:\n",
        "      if c.isalpha():\n",
        "        holder += c\n",
        "      else:\n",
        "        if holder != '':\n",
        "          mydict[holder] = mydict[holder]+1 if holder in mydict else 1\n",
        "          holder = ''\n",
        "  \n",
        "  # print wordlist\n",
        "  //print(mydict)\n",
        "  pd.set_option(\"max_rows\", None)\n",
        "  mywordlist = pd.DataFrame.from_dict(mydict, orient='index', columns=['Frequency'])\n",
        "  return mywordlist"
      ],
      "execution_count": null,
      "outputs": []
    },
    {
      "cell_type": "markdown",
      "metadata": {
        "id": "d8XoGckIjMvL"
      },
      "source": [
        "## Step 2\n",
        "於左側上傳檔案，並於上傳完畢後，以右鍵點選該檔案，選擇「複製路徑」。\n",
        "\n",
        "## Step 3\n",
        "將複製好的路徑貼上至下方程式碼中：\n",
        "\n",
        "e.g. 如路徑為 /content/amis_01.txt\n",
        "則將下方程式碼改為\n",
        "```\n",
        "myfile = '/content/amis_01.txt'\n",
        "```\n",
        "\n",
        "修改完後，執行下方程式，即可得到該文本之詞彙統計總表。"
      ]
    },
    {
      "cell_type": "code",
      "metadata": {
        "colab": {
          "base_uri": "https://localhost:8080/",
          "height": 213
        },
        "id": "L2HnxSXdUVSW",
        "outputId": "78889541-ec91-4086-cd82-85f288d3a8a9"
      },
      "source": [
        "# input file path\n",
        "myfile = '/content/amis_01.txt'\n",
        "\n",
        "# run function\n",
        "textstat(myfile)"
      ],
      "execution_count": null,
      "outputs": [
        {
          "output_type": "error",
          "ename": "NameError",
          "evalue": "ignored",
          "traceback": [
            "\u001b[0;31m---------------------------------------------------------------------------\u001b[0m",
            "\u001b[0;31mNameError\u001b[0m                                 Traceback (most recent call last)",
            "\u001b[0;32m<ipython-input-1-fe3e331a24a5>\u001b[0m in \u001b[0;36m<module>\u001b[0;34m()\u001b[0m\n\u001b[1;32m      3\u001b[0m \u001b[0;34m\u001b[0m\u001b[0m\n\u001b[1;32m      4\u001b[0m \u001b[0;31m# run function\u001b[0m\u001b[0;34m\u001b[0m\u001b[0;34m\u001b[0m\u001b[0;34m\u001b[0m\u001b[0m\n\u001b[0;32m----> 5\u001b[0;31m \u001b[0mtextstat\u001b[0m\u001b[0;34m(\u001b[0m\u001b[0mmyfile\u001b[0m\u001b[0;34m)\u001b[0m\u001b[0;34m\u001b[0m\u001b[0;34m\u001b[0m\u001b[0m\n\u001b[0m",
            "\u001b[0;31mNameError\u001b[0m: name 'textstat' is not defined"
          ]
        }
      ]
    }
  ]
}